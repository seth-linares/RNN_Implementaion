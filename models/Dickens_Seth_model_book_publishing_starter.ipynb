{
  "cells": [
    {
      "cell_type": "code",
      "execution_count": null,
      "metadata": {
        "id": "XtiXE04uGB_U"
      },
      "outputs": [],
      "source": [
        "import tensorflow as tf\n",
        "from tensorflow.keras.layers.experimental import preprocessing\n",
        "import numpy as np\n",
        "import os\n",
        "import time"
      ]
    },
    {
      "cell_type": "markdown",
      "metadata": {
        "id": "qv4r-dKnSRKz"
      },
      "source": [
        "## I. Parse Text Sources\n",
        "First we'll load our text sources and create our vocabulary lists and encoders.\n",
        "\n",
        "There are ways we could do this in pure python, but using the tensorflow data structures and libraries allow us to keep things super-optimized."
      ]
    },
    {
      "cell_type": "code",
      "execution_count": null,
      "metadata": {
        "colab": {
          "base_uri": "https://localhost:8080/"
        },
        "id": "H8RbnIjwHGoR",
        "outputId": "fe10bd95-031a-4a4c-ad41-72123509205d"
      },
      "outputs": [
        {
          "output_type": "stream",
          "name": "stdout",
          "text": [
            "Downloading data from https://raw.githubusercontent.com/sethlinares/rnn-texts-cse450/main/dickens.txt\n",
            "785469/785469 [==============================] - 0s 0us/step\n",
            "Length of text: 771571 characters\n"
          ]
        }
      ],
      "source": [
        "path_to_file = tf.keras.utils.get_file('dickens.txt', 'https://raw.githubusercontent.com/sethlinares/rnn-texts-cse450/main/dickens.txt')\n",
        "text = open(path_to_file, 'rb').read().decode(encoding='utf-8')\n",
        "print('Length of text: {} characters'.format(len(text)))"
      ]
    },
    {
      "cell_type": "code",
      "execution_count": null,
      "metadata": {
        "colab": {
          "base_uri": "https://localhost:8080/"
        },
        "id": "2XRnt0XUHUrq",
        "outputId": "50f4f6c6-b76f-47a9-df8c-bac0f148ec21"
      },
      "outputs": [
        {
          "output_type": "stream",
          "name": "stdout",
          "text": [
            "﻿CHAPTER I.\r\n",
            "The Period\r\n",
            "\r\n",
            "\r\n",
            "It was the best of times, it was the worst of times, it was the age of\r\n",
            "wisdom, it was the age of foolishness, it was the epoch of belief, it\r\n",
            "was the epoch of incredulity\n"
          ]
        }
      ],
      "source": [
        "print(text[:200])"
      ]
    },
    {
      "cell_type": "code",
      "execution_count": null,
      "metadata": {
        "colab": {
          "base_uri": "https://localhost:8080/"
        },
        "id": "2SLd7l0HP1Po",
        "outputId": "f22be3a8-8664-42b9-aac4-184f9313c0a8"
      },
      "outputs": [
        {
          "output_type": "stream",
          "name": "stdout",
          "text": [
            "78 unique characters\n",
            "['\\n', '\\r', ' ', '!', '(', ')', '*', ',', '-', '.', '1', '2', '5', '6', '7', '9', ':', ';', '?', 'A', 'B', 'C', 'D', 'E', 'F', 'G', 'H', 'I', 'J', 'K', 'L', 'M', 'N', 'O', 'P', 'Q', 'R', 'S', 'T', 'U', 'V', 'W', 'X', 'Y', '_', 'a', 'b', 'c', 'd', 'e', 'f', 'g', 'h', 'i', 'j', 'k', 'l', 'm', 'n', 'o', 'p', 'q', 'r', 's', 't', 'u', 'v', 'w', 'x', 'y', 'z', 'è', 'é', '‘', '’', '“', '”', '\\ufeff']\n"
          ]
        }
      ],
      "source": [
        "# Now we'll get a list of the unique characters in the file. This will form the\n",
        "# vocabulary of our network. There may be some characters we want to remove from this\n",
        "# set as we refine the network.\n",
        "vocab = sorted(set(text))\n",
        "print('{} unique characters'.format(len(vocab)))\n",
        "print(vocab)"
      ]
    },
    {
      "cell_type": "code",
      "execution_count": null,
      "metadata": {
        "id": "NtjOxL7wQibb"
      },
      "outputs": [],
      "source": [
        "# Next, we'll encode encode these characters into numbers so we can use them\n",
        "# with our neural network, then we'll create some mappings between the characters\n",
        "# and their numeric representations\n",
        "ids_from_chars = preprocessing.StringLookup(vocabulary=list(vocab))\n",
        "chars_from_ids = tf.keras.layers.experimental.preprocessing.StringLookup(vocabulary=ids_from_chars.get_vocabulary(), invert=True)\n",
        "\n",
        "# Here's a little helper function that we can use to turn a sequence of ids\n",
        "# back into a string:\n",
        "# turn them into a string:\n",
        "def text_from_ids(ids):\n",
        "  joinedTensor = tf.strings.reduce_join(chars_from_ids(ids), axis=-1)\n",
        "  return joinedTensor.numpy().decode(\"utf-8\")"
      ]
    },
    {
      "cell_type": "code",
      "execution_count": null,
      "metadata": {
        "colab": {
          "base_uri": "https://localhost:8080/"
        },
        "id": "52bkemreRw8q",
        "outputId": "512986cf-d74a-490f-db99-98ce26e7984b"
      },
      "outputs": [
        {
          "output_type": "execute_result",
          "data": {
            "text/plain": [
              "<tf.Tensor: shape=(5,), dtype=int64, numpy=array([39, 63, 66, 65, 53])>"
            ]
          },
          "metadata": {},
          "execution_count": 6
        }
      ],
      "source": [
        "# Now we'll verify that they work, by getting the code for \"A\", and then looking\n",
        "# that up in reverse\n",
        "testids = ids_from_chars([\"T\", \"r\", \"u\", \"t\", \"h\"])\n",
        "testids"
      ]
    },
    {
      "cell_type": "code",
      "execution_count": null,
      "metadata": {
        "colab": {
          "base_uri": "https://localhost:8080/"
        },
        "id": "vGUnSHjtD_IJ",
        "outputId": "de3697d5-a8c9-4d19-87f5-9fa6d6b3a678"
      },
      "outputs": [
        {
          "output_type": "execute_result",
          "data": {
            "text/plain": [
              "<tf.Tensor: shape=(5,), dtype=string, numpy=array([b'T', b'r', b'u', b't', b'h'], dtype=object)>"
            ]
          },
          "metadata": {},
          "execution_count": 7
        }
      ],
      "source": [
        "chars_from_ids(testids)"
      ]
    },
    {
      "cell_type": "code",
      "execution_count": null,
      "metadata": {
        "colab": {
          "base_uri": "https://localhost:8080/",
          "height": 35
        },
        "id": "8rghkpLLLjL5",
        "outputId": "6c26acde-7593-4ed5-cb47-ebc2cff8a80f"
      },
      "outputs": [
        {
          "output_type": "execute_result",
          "data": {
            "text/plain": [
              "'Truth'"
            ],
            "application/vnd.google.colaboratory.intrinsic+json": {
              "type": "string"
            }
          },
          "metadata": {},
          "execution_count": 8
        }
      ],
      "source": [
        "testString = text_from_ids( testids )\n",
        "testString"
      ]
    },
    {
      "cell_type": "markdown",
      "metadata": {
        "id": "MRXMVqTcSpA0"
      },
      "source": [
        "## II. Construct our training data\n",
        "Next we need to construct our training data by building sentence chunks. Each chunk will consist of a sequence of characters and a corresponding \"next sequence\" of the same length showing what would happen if we move forward in the text. This \"next sequence\" becomes our target variable.\n",
        "\n",
        "For example, if this were our text:\n",
        "\n",
        "> It is a truth universally acknowledged, that a single man in possession\n",
        "of a good fortune, must be in want of a wife.\n",
        "\n",
        "And our sequence length was 10 with a step size of 1, our first chunk would be:\n",
        "\n",
        "* Sequence: `It is a tr`\n",
        "* Next Sequence: `t is a tru`\n",
        "\n",
        "Our second chunk would be:\n",
        "\n",
        "* Sequence: `t is a tru`\n",
        "* Next Word: ` is a trut`\n",
        "\n"
      ]
    },
    {
      "cell_type": "code",
      "execution_count": null,
      "metadata": {
        "colab": {
          "base_uri": "https://localhost:8080/"
        },
        "id": "5PLJWOg2P_fE",
        "outputId": "dd735b2d-80f6-4c8b-bd7c-3c06f3056f66"
      },
      "outputs": [
        {
          "output_type": "execute_result",
          "data": {
            "text/plain": [
              "<tf.Tensor: shape=(771571,), dtype=int64, numpy=array([78, 22, 27, ..., 59, 10, 77])>"
            ]
          },
          "metadata": {},
          "execution_count": 9
        }
      ],
      "source": [
        "# First, create a stream of encoded integers from our text\n",
        "all_ids = ids_from_chars(tf.strings.unicode_split(text, 'UTF-8'))\n",
        "all_ids"
      ]
    },
    {
      "cell_type": "code",
      "execution_count": null,
      "metadata": {
        "id": "-nBqVY6pFpZs"
      },
      "outputs": [],
      "source": [
        "# Now, convert that into a tensorflow dataset\n",
        "ids_dataset = tf.data.Dataset.from_tensor_slices(all_ids)"
      ]
    },
    {
      "cell_type": "code",
      "execution_count": null,
      "metadata": {
        "id": "8Fr28CJxUBtG"
      },
      "outputs": [],
      "source": [
        "# Finally, let's batch these sequences up into chunks for our training\n",
        "seq_length = 100\n",
        "sequences = ids_dataset.batch(seq_length+1, drop_remainder=True)\n",
        "\n",
        "# This function will generate our sequence pairs:\n",
        "def split_input_target(sequence):\n",
        "    input_text = sequence[:-1]\n",
        "    target_text = sequence[1:]\n",
        "    return input_text, target_text\n",
        "\n",
        "# Call the function for every sequence in our list to create a new dataset\n",
        "# of input->target pairs\n",
        "dataset = sequences.map(split_input_target)"
      ]
    },
    {
      "cell_type": "code",
      "execution_count": null,
      "metadata": {
        "colab": {
          "base_uri": "https://localhost:8080/"
        },
        "id": "poNVukmsUFkq",
        "outputId": "c1711d71-5096-4540-c8e3-61bb6fa560d6"
      },
      "outputs": [
        {
          "output_type": "stream",
          "name": "stdout",
          "text": [
            "Input:  ﻿CHAPTER I.\r\n",
            "The Period\r\n",
            "\r\n",
            "\r\n",
            "It was the best of times, it was the worst of times, it was the age of\r\n",
            "--------\n",
            "Target:  CHAPTER I.\r\n",
            "The Period\r\n",
            "\r\n",
            "\r\n",
            "It was the best of times, it was the worst of times, it was the age of\r\n",
            "\n"
          ]
        }
      ],
      "source": [
        "# Verify our sequences\n",
        "for input_example, target_example in  dataset.take(1):\n",
        "    print(\"Input: \", text_from_ids(input_example))\n",
        "    print(\"--------\")\n",
        "    print(\"Target: \", text_from_ids(target_example))"
      ]
    },
    {
      "cell_type": "code",
      "execution_count": null,
      "metadata": {
        "colab": {
          "base_uri": "https://localhost:8080/"
        },
        "id": "QDdr6xfZYa0o",
        "outputId": "132fc46a-f9be-47d6-d701-855f1e699ba7"
      },
      "outputs": [
        {
          "output_type": "execute_result",
          "data": {
            "text/plain": [
              "<_PrefetchDataset element_spec=(TensorSpec(shape=(1024, 100), dtype=tf.int64, name=None), TensorSpec(shape=(1024, 100), dtype=tf.int64, name=None))>"
            ]
          },
          "metadata": {},
          "execution_count": 13
        }
      ],
      "source": [
        "# Finally, we'll randomize the sequences so that we don't just memorize the books\n",
        "# in the order they were written, then build a new streaming dataset from that.\n",
        "# Using a streaming dataset allows us to pass the data to our network bit by bit,\n",
        "# rather than keeping it all in memory. We'll set it to figure out how much data\n",
        "# to prefetch in the background.\n",
        "\n",
        "BATCH_SIZE = 1024\n",
        "BUFFER_SIZE = 10000\n",
        "\n",
        "dataset = (\n",
        "    dataset\n",
        "    .shuffle(BUFFER_SIZE)\n",
        "    .batch(BATCH_SIZE, drop_remainder=True)\n",
        "    .prefetch(tf.data.experimental.AUTOTUNE))\n",
        "\n",
        "dataset"
      ]
    },
    {
      "cell_type": "markdown",
      "metadata": {
        "id": "0VQ-KjEeZMzd"
      },
      "source": [
        "## III. Build the model\n",
        "\n",
        "Next, we'll build our model. Up until this point, you've been using the Keras symbolic, or imperative API for creating your models. Doing something like:\n",
        "\n",
        "    model = tf.keras.models.Sequentla()\n",
        "    model.add(tf.keras.layers.Dense(80, activation='relu))\n",
        "    etc...\n",
        "\n",
        "However, tensorflow has another way to build models called the Functional API, which gives us a lot more control over what happens inside the model. You can read more about [the differences and when to use each here](https://blog.tensorflow.org/2019/01/what-are-symbolic-and-imperative-apis.html).\n",
        "\n",
        "We'll use the functional API for our RNN in this example. This will involve defining our model as a custom subclass of `tf.keras.Model`.\n",
        "\n",
        "If you're not familiar with classes in python, you might want to review [this quick tutorial](https://www.w3schools.com/python/python_classes.asp), as well as [this one on class inheritance](https://www.w3schools.com/python/python_inheritance.asp).\n",
        "\n",
        "Using a functional model is important for our situation because we're not just training it to predict a single character for a single sequence, but as we make predictions with it, we need it to remember those predictions as use that memory as it makes new predictions.\n"
      ]
    },
    {
      "cell_type": "code",
      "source": [
        "!pip install tensorflow-addons"
      ],
      "metadata": {
        "id": "IQw_NEG5j_I0",
        "colab": {
          "base_uri": "https://localhost:8080/"
        },
        "outputId": "6ff5602f-a317-4e45-beab-0157ea79a738"
      },
      "execution_count": null,
      "outputs": [
        {
          "output_type": "stream",
          "name": "stdout",
          "text": [
            "Collecting tensorflow-addons\n",
            "  Downloading tensorflow_addons-0.20.0-cp310-cp310-manylinux_2_17_x86_64.manylinux2014_x86_64.whl (591 kB)\n",
            "\u001b[?25l     \u001b[90m━━━━━━━━━━━━━━━━━━━━━━━━━━━━━━━━━━━━━━━━\u001b[0m \u001b[32m0.0/591.0 kB\u001b[0m \u001b[31m?\u001b[0m eta \u001b[36m-:--:--\u001b[0m\r\u001b[2K     \u001b[90m━━━━━━━━━━━━━━━━━━━━━━━━━━━━━━━━━━━━━━\u001b[0m \u001b[32m591.0/591.0 kB\u001b[0m \u001b[31m40.8 MB/s\u001b[0m eta \u001b[36m0:00:00\u001b[0m\n",
            "\u001b[?25hRequirement already satisfied: packaging in /usr/local/lib/python3.10/dist-packages (from tensorflow-addons) (23.1)\n",
            "Collecting typeguard<3.0.0,>=2.7 (from tensorflow-addons)\n",
            "  Downloading typeguard-2.13.3-py3-none-any.whl (17 kB)\n",
            "Installing collected packages: typeguard, tensorflow-addons\n",
            "Successfully installed tensorflow-addons-0.20.0 typeguard-2.13.3\n"
          ]
        }
      ]
    },
    {
      "cell_type": "code",
      "execution_count": null,
      "metadata": {
        "id": "Fj4uh9y-Y9mx",
        "colab": {
          "base_uri": "https://localhost:8080/"
        },
        "outputId": "8870b5de-8d60-4031-c9bc-4f09e060be27"
      },
      "outputs": [
        {
          "output_type": "stream",
          "name": "stderr",
          "text": [
            "/usr/local/lib/python3.10/dist-packages/tensorflow_addons/utils/tfa_eol_msg.py:23: UserWarning: \n",
            "\n",
            "TensorFlow Addons (TFA) has ended development and introduction of new features.\n",
            "TFA has entered a minimal maintenance and release mode until a planned end of life in May 2024.\n",
            "Please modify downstream libraries to take dependencies from other repositories in our TensorFlow community (e.g. Keras, Keras-CV, and Keras-NLP). \n",
            "\n",
            "For more information see: https://github.com/tensorflow/addons/issues/2807 \n",
            "\n",
            "  warnings.warn(\n"
          ]
        }
      ],
      "source": [
        "import tensorflow_addons as tfa\n",
        "class DickensTextModel(tf.keras.Model):\n",
        "  def __init__(self, vocab_size, embedding_dim, rnn_units):\n",
        "    super().__init__()\n",
        "    self.embedding = tf.keras.layers.Embedding(vocab_size, embedding_dim)\n",
        "    self.dropout1 = tf.keras.layers.Dropout(0)\n",
        "    self.rnn1 = tf.keras.layers.LSTM(rnn_units, return_sequences=True, return_state=True)\n",
        "    self.rnn2 = tf.keras.layers.LSTM(rnn_units, return_sequences=True, return_state=True)\n",
        "    self.dropout2 = tf.keras.layers.Dropout(0)\n",
        "    self.dense = tf.keras.layers.Dense(vocab_size)\n",
        "\n",
        "  def call(self, inputs, states=None, return_state=False, training=False):\n",
        "    x = inputs\n",
        "    x = self.embedding(x, training=training)\n",
        "    x = self.dropout1(x, training=training)\n",
        "    if states is None:\n",
        "      states = [self.rnn1.get_initial_state(x), self.rnn2.get_initial_state(x)]\n",
        "    x, h1, c1 = self.rnn1(x, initial_state=states[0], training=training)\n",
        "    x, h2, c2 = self.rnn2(x, initial_state=states[1], training=training)\n",
        "\n",
        "    states = [(h1, c1), (h2, c2)]\n",
        "    x = self.dropout2(x, training=training)\n",
        "    x = self.dense(x, training=training)\n",
        "\n",
        "    if return_state:\n",
        "      return x, states\n",
        "    else:\n",
        "      return x\n",
        "\n",
        "model = DickensTextModel(vocab_size=len(ids_from_chars.get_vocabulary()), embedding_dim=256, rnn_units=1024)"
      ]
    },
    {
      "cell_type": "code",
      "execution_count": null,
      "metadata": {
        "colab": {
          "base_uri": "https://localhost:8080/"
        },
        "id": "C67kN7YAdfSf",
        "outputId": "60db2305-ec5b-4d01-ec36-3b52157e3520"
      },
      "outputs": [
        {
          "output_type": "stream",
          "name": "stdout",
          "text": [
            "(1024, 100, 79) # (batch_size, sequence_length, vocab_size)\n"
          ]
        }
      ],
      "source": [
        "# Verify the output of our model is correct by running one sample through\n",
        "# This will also compile the model for us. This step will take a bit.\n",
        "for input_example_batch, target_example_batch in dataset.take(1):\n",
        "    example_batch_predictions = model(input_example_batch)\n",
        "    print(example_batch_predictions.shape, \"# (batch_size, sequence_length, vocab_size)\")\n"
      ]
    },
    {
      "cell_type": "code",
      "execution_count": null,
      "metadata": {
        "colab": {
          "base_uri": "https://localhost:8080/"
        },
        "id": "qJGL8gCWdsiu",
        "outputId": "605a449c-a010-48ba-9be6-639c72257b52"
      },
      "outputs": [
        {
          "output_type": "stream",
          "name": "stdout",
          "text": [
            "Model: \"dickens_text_model\"\n",
            "_________________________________________________________________\n",
            " Layer (type)                Output Shape              Param #   \n",
            "=================================================================\n",
            " embedding (Embedding)       multiple                  20224     \n",
            "                                                                 \n",
            " dropout (Dropout)           multiple                  0         \n",
            "                                                                 \n",
            " lstm (LSTM)                 multiple                  5246976   \n",
            "                                                                 \n",
            " lstm_1 (LSTM)               multiple                  8392704   \n",
            "                                                                 \n",
            " dropout_1 (Dropout)         multiple                  0         \n",
            "                                                                 \n",
            " dense (Dense)               multiple                  80975     \n",
            "                                                                 \n",
            "=================================================================\n",
            "Total params: 13,740,879\n",
            "Trainable params: 13,740,879\n",
            "Non-trainable params: 0\n",
            "_________________________________________________________________\n"
          ]
        }
      ],
      "source": [
        "# Now let's view the model summary\n",
        "model.summary()"
      ]
    },
    {
      "cell_type": "markdown",
      "metadata": {
        "id": "wTDe5m4baEqo"
      },
      "source": [
        "## IV. Train the model\n",
        "\n",
        "For our purposes, we'll be using [categorical cross entropy](https://machinelearningmastery.com/cross-entropy-for-machine-learning/) as our loss function*. Also, our model will be outputting [\"logits\" rather than normalized probabilities](https://stackoverflow.com/questions/41455101/what-is-the-meaning-of-the-word-logits-in-tensorflow), because we'll be doing further transformations on the output later.\n",
        "\n",
        "\n",
        "\\* Note that since our model deals with integer encoding rather than one-hot encoding, we'll specifically be using [sparse categorical cross entropy](https://stats.stackexchange.com/questions/326065/cross-entropy-vs-sparse-cross-entropy-when-to-use-one-over-the-other)."
      ]
    },
    {
      "cell_type": "code",
      "execution_count": null,
      "metadata": {
        "id": "7vOxc7CkaGQB"
      },
      "outputs": [],
      "source": [
        "#\n",
        "\n",
        "\n",
        "loss = tf.losses.SparseCategoricalCrossentropy(from_logits=True)\n",
        "model.compile(optimizer='adam', loss=loss)\n",
        "\n",
        "#\n",
        "\n",
        "\n"
      ]
    },
    {
      "cell_type": "code",
      "source": [
        "early_stopping = tf.keras.callbacks.EarlyStopping(monitor='loss', patience=5, restore_best_weights=True)\n",
        "model.fit(dataset, epochs=400, callbacks=[early_stopping])"
      ],
      "metadata": {
        "colab": {
          "base_uri": "https://localhost:8080/"
        },
        "id": "A95Qkq72O5Yi",
        "outputId": "bf772c11-d991-4d8c-8362-53e7d6ce1c38"
      },
      "execution_count": null,
      "outputs": [
        {
          "output_type": "stream",
          "name": "stdout",
          "text": [
            "Epoch 1/400\n",
            "7/7 [==============================] - 8s 205ms/step - loss: 4.0916\n",
            "Epoch 2/400\n",
            "7/7 [==============================] - 2s 131ms/step - loss: 3.3819\n",
            "Epoch 3/400\n",
            "7/7 [==============================] - 2s 134ms/step - loss: 3.2072\n",
            "Epoch 4/400\n",
            "7/7 [==============================] - 2s 116ms/step - loss: 3.1774\n",
            "Epoch 5/400\n",
            "7/7 [==============================] - 2s 117ms/step - loss: 3.1624\n",
            "Epoch 6/400\n",
            "7/7 [==============================] - 2s 117ms/step - loss: 3.1451\n",
            "Epoch 7/400\n",
            "7/7 [==============================] - 2s 132ms/step - loss: 3.1222\n",
            "Epoch 8/400\n",
            "7/7 [==============================] - 2s 116ms/step - loss: 3.0755\n",
            "Epoch 9/400\n",
            "7/7 [==============================] - 2s 117ms/step - loss: 2.9937\n",
            "Epoch 10/400\n",
            "7/7 [==============================] - 2s 116ms/step - loss: 2.9028\n",
            "Epoch 11/400\n",
            "7/7 [==============================] - 2s 117ms/step - loss: 2.8126\n",
            "Epoch 12/400\n",
            "7/7 [==============================] - 2s 130ms/step - loss: 2.7339\n",
            "Epoch 13/400\n",
            "7/7 [==============================] - 2s 117ms/step - loss: 2.6398\n",
            "Epoch 14/400\n",
            "7/7 [==============================] - 2s 112ms/step - loss: 2.6692\n",
            "Epoch 15/400\n",
            "7/7 [==============================] - 2s 116ms/step - loss: 2.5457\n",
            "Epoch 16/400\n",
            "7/7 [==============================] - 2s 118ms/step - loss: 2.4560\n",
            "Epoch 17/400\n",
            "7/7 [==============================] - 2s 116ms/step - loss: 2.3950\n",
            "Epoch 18/400\n",
            "7/7 [==============================] - 2s 117ms/step - loss: 2.3435\n",
            "Epoch 19/400\n",
            "7/7 [==============================] - 2s 116ms/step - loss: 2.2995\n",
            "Epoch 20/400\n",
            "7/7 [==============================] - 2s 118ms/step - loss: 2.2656\n",
            "Epoch 21/400\n",
            "7/7 [==============================] - 2s 116ms/step - loss: 2.2248\n",
            "Epoch 22/400\n",
            "7/7 [==============================] - 2s 117ms/step - loss: 2.2010\n",
            "Epoch 23/400\n",
            "7/7 [==============================] - 2s 116ms/step - loss: 2.1747\n",
            "Epoch 24/400\n",
            "7/7 [==============================] - 2s 117ms/step - loss: 2.1383\n",
            "Epoch 25/400\n",
            "7/7 [==============================] - 2s 116ms/step - loss: 2.1025\n",
            "Epoch 26/400\n",
            "7/7 [==============================] - 2s 118ms/step - loss: 2.0711\n",
            "Epoch 27/400\n",
            "7/7 [==============================] - 2s 117ms/step - loss: 2.0596\n",
            "Epoch 28/400\n",
            "7/7 [==============================] - 2s 117ms/step - loss: 2.0236\n",
            "Epoch 29/400\n",
            "7/7 [==============================] - 2s 116ms/step - loss: 1.9888\n",
            "Epoch 30/400\n",
            "7/7 [==============================] - 2s 117ms/step - loss: 1.9556\n",
            "Epoch 31/400\n",
            "7/7 [==============================] - 2s 116ms/step - loss: 1.9340\n",
            "Epoch 32/400\n",
            "7/7 [==============================] - 2s 117ms/step - loss: 1.9044\n",
            "Epoch 33/400\n",
            "7/7 [==============================] - 2s 116ms/step - loss: 1.8720\n",
            "Epoch 34/400\n",
            "7/7 [==============================] - 2s 117ms/step - loss: 1.8537\n",
            "Epoch 35/400\n",
            "7/7 [==============================] - 2s 116ms/step - loss: 1.8233\n",
            "Epoch 36/400\n",
            "7/7 [==============================] - 2s 117ms/step - loss: 1.7950\n",
            "Epoch 37/400\n",
            "7/7 [==============================] - 2s 116ms/step - loss: 1.7686\n",
            "Epoch 38/400\n",
            "7/7 [==============================] - 2s 118ms/step - loss: 1.7463\n",
            "Epoch 39/400\n",
            "7/7 [==============================] - 2s 116ms/step - loss: 1.7289\n",
            "Epoch 40/400\n",
            "7/7 [==============================] - 2s 117ms/step - loss: 1.7012\n",
            "Epoch 41/400\n",
            "7/7 [==============================] - 2s 116ms/step - loss: 1.6784\n",
            "Epoch 42/400\n",
            "7/7 [==============================] - 2s 117ms/step - loss: 1.6574\n",
            "Epoch 43/400\n",
            "7/7 [==============================] - 2s 115ms/step - loss: 1.6379\n",
            "Epoch 44/400\n",
            "7/7 [==============================] - 2s 117ms/step - loss: 1.6243\n",
            "Epoch 45/400\n",
            "7/7 [==============================] - 2s 116ms/step - loss: 1.6083\n",
            "Epoch 46/400\n",
            "7/7 [==============================] - 2s 118ms/step - loss: 1.5828\n",
            "Epoch 47/400\n",
            "7/7 [==============================] - 2s 116ms/step - loss: 1.5618\n",
            "Epoch 48/400\n",
            "7/7 [==============================] - 2s 118ms/step - loss: 1.5399\n",
            "Epoch 49/400\n",
            "7/7 [==============================] - 2s 116ms/step - loss: 1.5233\n",
            "Epoch 50/400\n",
            "7/7 [==============================] - 2s 117ms/step - loss: 1.5086\n",
            "Epoch 51/400\n",
            "7/7 [==============================] - 2s 116ms/step - loss: 1.4932\n",
            "Epoch 52/400\n",
            "7/7 [==============================] - 2s 117ms/step - loss: 1.4773\n",
            "Epoch 53/400\n",
            "7/7 [==============================] - 2s 116ms/step - loss: 1.4640\n",
            "Epoch 54/400\n",
            "7/7 [==============================] - 2s 118ms/step - loss: 1.4461\n",
            "Epoch 55/400\n",
            "7/7 [==============================] - 2s 116ms/step - loss: 1.4297\n",
            "Epoch 56/400\n",
            "7/7 [==============================] - 2s 112ms/step - loss: 1.4304\n",
            "Epoch 57/400\n",
            "7/7 [==============================] - 2s 117ms/step - loss: 1.4074\n",
            "Epoch 58/400\n",
            "7/7 [==============================] - 2s 116ms/step - loss: 1.3928\n",
            "Epoch 59/400\n",
            "7/7 [==============================] - 2s 117ms/step - loss: 1.3782\n",
            "Epoch 60/400\n",
            "7/7 [==============================] - 2s 116ms/step - loss: 1.3624\n",
            "Epoch 61/400\n",
            "7/7 [==============================] - 2s 117ms/step - loss: 1.3486\n",
            "Epoch 62/400\n",
            "7/7 [==============================] - 2s 116ms/step - loss: 1.3367\n",
            "Epoch 63/400\n",
            "7/7 [==============================] - 2s 119ms/step - loss: 1.3296\n",
            "Epoch 64/400\n",
            "7/7 [==============================] - 2s 116ms/step - loss: 1.3179\n",
            "Epoch 65/400\n",
            "7/7 [==============================] - 2s 118ms/step - loss: 1.3027\n",
            "Epoch 66/400\n",
            "7/7 [==============================] - 2s 117ms/step - loss: 1.2866\n",
            "Epoch 67/400\n",
            "7/7 [==============================] - 2s 117ms/step - loss: 1.2750\n",
            "Epoch 68/400\n",
            "7/7 [==============================] - 2s 117ms/step - loss: 1.2662\n",
            "Epoch 69/400\n",
            "7/7 [==============================] - 2s 132ms/step - loss: 1.2580\n",
            "Epoch 70/400\n",
            "7/7 [==============================] - 2s 116ms/step - loss: 1.2438\n",
            "Epoch 71/400\n",
            "7/7 [==============================] - 2s 117ms/step - loss: 1.2313\n",
            "Epoch 72/400\n",
            "7/7 [==============================] - 2s 116ms/step - loss: 1.2192\n",
            "Epoch 73/400\n",
            "7/7 [==============================] - 2s 118ms/step - loss: 1.2133\n",
            "Epoch 74/400\n",
            "7/7 [==============================] - 2s 112ms/step - loss: 1.2180\n",
            "Epoch 75/400\n",
            "7/7 [==============================] - 2s 116ms/step - loss: 1.1977\n",
            "Epoch 76/400\n",
            "7/7 [==============================] - 2s 117ms/step - loss: 1.1791\n",
            "Epoch 77/400\n",
            "7/7 [==============================] - 2s 116ms/step - loss: 1.1617\n",
            "Epoch 78/400\n",
            "7/7 [==============================] - 2s 118ms/step - loss: 1.1498\n",
            "Epoch 79/400\n",
            "7/7 [==============================] - 2s 117ms/step - loss: 1.1379\n",
            "Epoch 80/400\n",
            "7/7 [==============================] - 2s 118ms/step - loss: 1.1253\n",
            "Epoch 81/400\n",
            "7/7 [==============================] - 2s 116ms/step - loss: 1.1185\n",
            "Epoch 82/400\n",
            "7/7 [==============================] - 2s 117ms/step - loss: 1.0999\n",
            "Epoch 83/400\n",
            "7/7 [==============================] - 2s 116ms/step - loss: 1.0895\n",
            "Epoch 84/400\n",
            "7/7 [==============================] - 2s 118ms/step - loss: 1.0760\n",
            "Epoch 85/400\n",
            "7/7 [==============================] - 2s 116ms/step - loss: 1.0585\n",
            "Epoch 86/400\n",
            "7/7 [==============================] - 2s 118ms/step - loss: 1.0459\n",
            "Epoch 87/400\n",
            "7/7 [==============================] - 2s 116ms/step - loss: 1.0402\n",
            "Epoch 88/400\n",
            "7/7 [==============================] - 2s 118ms/step - loss: 1.0304\n",
            "Epoch 89/400\n",
            "7/7 [==============================] - 2s 116ms/step - loss: 1.0246\n",
            "Epoch 90/400\n",
            "7/7 [==============================] - 2s 118ms/step - loss: 0.9915\n",
            "Epoch 91/400\n",
            "7/7 [==============================] - 2s 116ms/step - loss: 0.9709\n",
            "Epoch 92/400\n",
            "7/7 [==============================] - 2s 117ms/step - loss: 0.9599\n",
            "Epoch 93/400\n",
            "7/7 [==============================] - 2s 116ms/step - loss: 0.9573\n",
            "Epoch 94/400\n",
            "7/7 [==============================] - 2s 117ms/step - loss: 0.9536\n",
            "Epoch 95/400\n",
            "7/7 [==============================] - 2s 117ms/step - loss: 0.9345\n",
            "Epoch 96/400\n",
            "7/7 [==============================] - 2s 117ms/step - loss: 0.9031\n",
            "Epoch 97/400\n",
            "7/7 [==============================] - 2s 116ms/step - loss: 0.8784\n",
            "Epoch 98/400\n",
            "7/7 [==============================] - 2s 118ms/step - loss: 0.8542\n",
            "Epoch 99/400\n",
            "7/7 [==============================] - 2s 116ms/step - loss: 0.8427\n",
            "Epoch 100/400\n",
            "7/7 [==============================] - 2s 112ms/step - loss: 0.8430\n",
            "Epoch 101/400\n",
            "7/7 [==============================] - 2s 117ms/step - loss: 0.8237\n",
            "Epoch 102/400\n",
            "7/7 [==============================] - 2s 117ms/step - loss: 0.8048\n",
            "Epoch 103/400\n",
            "7/7 [==============================] - 2s 118ms/step - loss: 0.7800\n",
            "Epoch 104/400\n",
            "7/7 [==============================] - 2s 116ms/step - loss: 0.7516\n",
            "Epoch 105/400\n",
            "7/7 [==============================] - 2s 117ms/step - loss: 0.7291\n",
            "Epoch 106/400\n",
            "7/7 [==============================] - 2s 116ms/step - loss: 0.7216\n",
            "Epoch 107/400\n",
            "7/7 [==============================] - 2s 118ms/step - loss: 0.6968\n",
            "Epoch 108/400\n",
            "7/7 [==============================] - 2s 116ms/step - loss: 0.6857\n",
            "Epoch 109/400\n",
            "7/7 [==============================] - 2s 118ms/step - loss: 0.6636\n",
            "Epoch 110/400\n",
            "7/7 [==============================] - 2s 116ms/step - loss: 0.6419\n",
            "Epoch 111/400\n",
            "7/7 [==============================] - 2s 117ms/step - loss: 0.6128\n",
            "Epoch 112/400\n",
            "7/7 [==============================] - 2s 116ms/step - loss: 0.6118\n",
            "Epoch 113/400\n",
            "7/7 [==============================] - 2s 117ms/step - loss: 0.5951\n",
            "Epoch 114/400\n",
            "7/7 [==============================] - 2s 116ms/step - loss: 0.5618\n",
            "Epoch 115/400\n",
            "7/7 [==============================] - 2s 117ms/step - loss: 0.5370\n",
            "Epoch 116/400\n",
            "7/7 [==============================] - 2s 116ms/step - loss: 0.5140\n",
            "Epoch 117/400\n",
            "7/7 [==============================] - 2s 118ms/step - loss: 0.5104\n",
            "Epoch 118/400\n",
            "7/7 [==============================] - 2s 116ms/step - loss: 0.5005\n",
            "Epoch 119/400\n",
            "7/7 [==============================] - 2s 118ms/step - loss: 0.4826\n",
            "Epoch 120/400\n",
            "7/7 [==============================] - 2s 116ms/step - loss: 0.4554\n",
            "Epoch 121/400\n",
            "7/7 [==============================] - 2s 118ms/step - loss: 0.4302\n",
            "Epoch 122/400\n",
            "7/7 [==============================] - 2s 116ms/step - loss: 0.4208\n",
            "Epoch 123/400\n",
            "7/7 [==============================] - 2s 117ms/step - loss: 0.3947\n",
            "Epoch 124/400\n",
            "7/7 [==============================] - 2s 116ms/step - loss: 0.3710\n",
            "Epoch 125/400\n",
            "7/7 [==============================] - 2s 117ms/step - loss: 0.3519\n",
            "Epoch 126/400\n",
            "7/7 [==============================] - 2s 116ms/step - loss: 0.3337\n",
            "Epoch 127/400\n",
            "7/7 [==============================] - 2s 112ms/step - loss: 0.3390\n",
            "Epoch 128/400\n",
            "7/7 [==============================] - 2s 111ms/step - loss: 0.4009\n",
            "Epoch 129/400\n",
            "7/7 [==============================] - 2s 112ms/step - loss: 0.3940\n",
            "Epoch 130/400\n",
            "7/7 [==============================] - 2s 112ms/step - loss: 0.3405\n",
            "Epoch 131/400\n",
            "7/7 [==============================] - 2s 118ms/step - loss: 0.3051\n",
            "Epoch 132/400\n",
            "7/7 [==============================] - 2s 116ms/step - loss: 0.2786\n",
            "Epoch 133/400\n",
            "7/7 [==============================] - 2s 118ms/step - loss: 0.2580\n",
            "Epoch 134/400\n",
            "7/7 [==============================] - 2s 116ms/step - loss: 0.2429\n",
            "Epoch 135/400\n",
            "7/7 [==============================] - 2s 117ms/step - loss: 0.2286\n",
            "Epoch 136/400\n",
            "7/7 [==============================] - 2s 116ms/step - loss: 0.2172\n",
            "Epoch 137/400\n",
            "7/7 [==============================] - 2s 118ms/step - loss: 0.2069\n",
            "Epoch 138/400\n",
            "7/7 [==============================] - 2s 116ms/step - loss: 0.1979\n",
            "Epoch 139/400\n",
            "7/7 [==============================] - 2s 118ms/step - loss: 0.1900\n",
            "Epoch 140/400\n",
            "7/7 [==============================] - 2s 116ms/step - loss: 0.1829\n",
            "Epoch 141/400\n",
            "7/7 [==============================] - 2s 118ms/step - loss: 0.1767\n",
            "Epoch 142/400\n",
            "7/7 [==============================] - 2s 116ms/step - loss: 0.1710\n",
            "Epoch 143/400\n",
            "7/7 [==============================] - 2s 118ms/step - loss: 0.1659\n",
            "Epoch 144/400\n",
            "7/7 [==============================] - 2s 116ms/step - loss: 0.1601\n",
            "Epoch 145/400\n",
            "7/7 [==============================] - 2s 118ms/step - loss: 0.1557\n",
            "Epoch 146/400\n",
            "7/7 [==============================] - 2s 116ms/step - loss: 0.1523\n",
            "Epoch 147/400\n",
            "7/7 [==============================] - 2s 112ms/step - loss: 0.1851\n",
            "Epoch 148/400\n",
            "7/7 [==============================] - 2s 112ms/step - loss: 1.1971\n",
            "Epoch 149/400\n",
            "7/7 [==============================] - 2s 112ms/step - loss: 1.0127\n",
            "Epoch 150/400\n",
            "7/7 [==============================] - 2s 112ms/step - loss: 0.7681\n",
            "Epoch 151/400\n",
            "7/7 [==============================] - 2s 117ms/step - loss: 0.5912\n"
          ]
        },
        {
          "output_type": "execute_result",
          "data": {
            "text/plain": [
              "<keras.callbacks.History at 0x7fcfd0e546d0>"
            ]
          },
          "metadata": {},
          "execution_count": 19
        }
      ]
    },
    {
      "cell_type": "markdown",
      "source": [],
      "metadata": {
        "id": "eJl3ry4glT7s"
      }
    },
    {
      "cell_type": "markdown",
      "metadata": {
        "id": "casEwxrXcv4Y"
      },
      "source": [
        "## V. Use the model\n",
        "\n",
        "Now that our model has been trained, we can use it to generate text. As mentioned earlier, to do so we have to keep track of its internal state, or memory, so that we can use previous text predictions to inform later ones.\n",
        "\n",
        "However, with RNN generated text, if we always just pick the character with the highest probability, our model tends to get stuck in a loop. So instead we will create a probability distribution of characters for each step, and then sample from that distribution. We can add some variation to this using a paramter known as [\"temperature\"](https://cs.stackexchange.com/questions/79241/what-is-temperature-in-lstm-and-neural-networks-generally)."
      ]
    },
    {
      "cell_type": "code",
      "source": [
        "!pip install language-tool-python"
      ],
      "metadata": {
        "colab": {
          "base_uri": "https://localhost:8080/"
        },
        "id": "O5x3LuFG0-1c",
        "outputId": "6ba7009a-a266-4cd5-fb91-fd3dcbf2b918"
      },
      "execution_count": null,
      "outputs": [
        {
          "output_type": "stream",
          "name": "stdout",
          "text": [
            "Collecting language-tool-python\n",
            "  Downloading language_tool_python-2.7.1-py3-none-any.whl (34 kB)\n",
            "Requirement already satisfied: requests in /usr/local/lib/python3.10/dist-packages (from language-tool-python) (2.27.1)\n",
            "Requirement already satisfied: tqdm in /usr/local/lib/python3.10/dist-packages (from language-tool-python) (4.65.0)\n",
            "Requirement already satisfied: urllib3<1.27,>=1.21.1 in /usr/local/lib/python3.10/dist-packages (from requests->language-tool-python) (1.26.16)\n",
            "Requirement already satisfied: certifi>=2017.4.17 in /usr/local/lib/python3.10/dist-packages (from requests->language-tool-python) (2023.5.7)\n",
            "Requirement already satisfied: charset-normalizer~=2.0.0 in /usr/local/lib/python3.10/dist-packages (from requests->language-tool-python) (2.0.12)\n",
            "Requirement already satisfied: idna<4,>=2.5 in /usr/local/lib/python3.10/dist-packages (from requests->language-tool-python) (3.4)\n",
            "Installing collected packages: language-tool-python\n",
            "Successfully installed language-tool-python-2.7.1\n"
          ]
        }
      ]
    },
    {
      "cell_type": "code",
      "source": [
        "import language_tool_python\n",
        "\n",
        "class OneStep(tf.keras.Model):\n",
        "  def __init__(self, model, chars_from_ids, ids_from_chars, temperature=.3):\n",
        "    super().__init__()\n",
        "    self.temperature=temperature\n",
        "    self.model = model\n",
        "    self.chars_from_ids = chars_from_ids\n",
        "    self.ids_from_chars = ids_from_chars\n",
        "\n",
        "    # Create a mask to prevent \"\" or \"[UNK]\" from being generated.\n",
        "    skip_ids = self.ids_from_chars(['','[UNK]'])[:, None]\n",
        "    sparse_mask = tf.SparseTensor(\n",
        "        # Put a -inf at each bad index.\n",
        "        values=[-float('inf')]*len(skip_ids),\n",
        "        indices = skip_ids,\n",
        "        # Match the shape to the vocabulary\n",
        "        dense_shape=[len(ids_from_chars.get_vocabulary())])\n",
        "    self.prediction_mask = tf.sparse.to_dense(sparse_mask,validate_indices=False)\n",
        "\n",
        "  @tf.function\n",
        "  def generate_one_step(self, inputs, states=None):\n",
        "    # Convert strings to token IDs.\n",
        "    input_chars = tf.strings.unicode_split(inputs, 'UTF-8')\n",
        "    input_ids = self.ids_from_chars(input_chars).to_tensor()\n",
        "\n",
        "    # Run the model.\n",
        "    # predicted_logits.shape is [batch, char, next_char_logits]\n",
        "    predicted_logits, states =  self.model(inputs=input_ids, states=states,\n",
        "                                          return_state=True)\n",
        "    # Only use the last prediction.\n",
        "    predicted_logits = predicted_logits[:, -1, :]\n",
        "    predicted_logits = predicted_logits/self.temperature\n",
        "\n",
        "    # Apply the prediction mask: prevent \"\" or \"[UNK]\" from being generated.\n",
        "    predicted_logits = predicted_logits + self.prediction_mask\n",
        "\n",
        "    # Sample the output logits to generate token IDs.\n",
        "    predicted_ids = tf.random.categorical(predicted_logits, num_samples=1)\n",
        "    predicted_ids = tf.squeeze(predicted_ids, axis=-1)\n",
        "\n",
        "    return self.chars_from_ids(predicted_ids), states\n"
      ],
      "metadata": {
        "id": "VUTUfxud04AZ"
      },
      "execution_count": null,
      "outputs": []
    },
    {
      "cell_type": "code",
      "source": [
        "import difflib"
      ],
      "metadata": {
        "id": "wigjWTyT_bu3"
      },
      "execution_count": null,
      "outputs": []
    },
    {
      "cell_type": "code",
      "source": [
        "\n",
        "\n",
        "# Create an instance of the character generator\n",
        "one_step_model = OneStep(model, chars_from_ids, ids_from_chars)\n",
        "\n",
        "# Now, let's generate a 1000 character chapter by giving our model \"Chapter 1\"\n",
        "# as its starting text\n",
        "states = None\n",
        "next_char = tf.constant(['The world seemed like such a peaceful place until the magic tree was discovered in London.'])\n",
        "result = [next_char]\n",
        "\n",
        "for n in range(1000):\n",
        "  next_char, states = one_step_model.generate_one_step(next_char, states=states)\n",
        "  result.append(next_char)\n",
        "\n",
        "result = tf.strings.join(result)\n",
        "\n",
        "# Print the results formatted.\n",
        "generated_text = result[0].numpy().decode('utf-8')\n",
        "print(\"Generated text before correction:\")\n",
        "print(generated_text)\n",
        "\n",
        "# Correct the text using language_tool_python\n",
        "def correct_text(text):\n",
        "    tool = language_tool_python.LanguageTool('en-US')\n",
        "    corrected_text = tool.correct(text)\n",
        "    return corrected_text\n",
        "\n",
        "corrected_text = correct_text(generated_text)\n",
        "print(\"\\nGenerated text after correction:\")\n",
        "print(corrected_text)\n",
        "\n",
        "def print_diff(text1, text2):\n",
        "    diff = difflib.ndiff(text1.splitlines(keepends=True), text2.splitlines(keepends=True))\n",
        "    print(''.join(diff))\n",
        "print(\"\\nDifferences between the generated text and the corrected text:\")\n",
        "print_diff(generated_text, corrected_text)\n"
      ],
      "metadata": {
        "colab": {
          "base_uri": "https://localhost:8080/"
        },
        "id": "7T_9C9A-09h-",
        "outputId": "62003895-717f-422b-9272-0cda6adf8bc2"
      },
      "execution_count": null,
      "outputs": [
        {
          "output_type": "stream",
          "name": "stdout",
          "text": [
            "Generated text before correction:\n",
            "The world seemed like such a peaceful place until the magic tree was discovered in London.\r\n",
            "\r\n",
            "The she was a four and to business, and to keep it on the hay.\r\n",
            "\r\n",
            "“Good!” said the concenting out on that rangimon himself before him as they worked\r\n",
            "that heaving worth off on the hill--which wis was more at\r\n",
            "it escepting her answering he sappivet of her head\r\n",
            "“Much terring me to see his good at any love. I see them, by the sister of the\r\n",
            "business looked up atainst the barrier, and went up to the first tomesh fores before\r\n",
            "which heard and fresh, and in his mind thingle in the innore. The place\r\n",
            "there, and there are flades on like the other blades up\r\n",
            "and doing away.\r\n",
            "\r\n",
            "Wishin and hand he had ready to day before the night, and\r\n",
            "remarkeding of the same man with a closely red. And struck off and\r\n",
            "slying, he was falling or near homes, stooding out\r\n",
            "at their distrational tablis and straight in sixe, the mount ran down on\r\n",
            "his bed-come of the court, where the evening would rejoited himself to seet it\r\n",
            "infifuction to that emeritions, that to but the prisoner was with in\r\n",
            "any, the looks an\n",
            "\n",
            "Generated text after correction:\n",
            "The world seemed like such a peaceful place until the magic tree was discovered in London.\n",
            "\n",
            "The was a four and to business, and to keep it on the hay.\n",
            "\n",
            "“Good!” said the consenting out on that Rangoon himself before him as they worked\n",
            "that heaving worth off on the hill--which Wis was more at\n",
            "it excepting her answering he sappiest of her head\n",
            "“Much herring me to see his good at any love. I see them, by the sister of the\n",
            "business looked up against the barrier, and went up to the first tomes fores before\n",
            "which heard and fresh, and in his mind shingle in the ignore. The place\n",
            "there, and there are blades on like the other blades up\n",
            "and doing away.\n",
            "\n",
            "Within and hand he had ready to day before the night, and\n",
            "remarketing of the same man with a closely red. And struck off and\n",
            "saying, he was falling or near homes, stooping out\n",
            "at their dist rational tables and straight in side, the mount ran down on\n",
            "his bed-come of the court, where the evening would rejoined himself to set it\n",
            "infection to that exertions, that to but the prisoner was with in\n",
            "any, the looks an\n",
            "\n",
            "Differences between the generated text and the corrected text:\n",
            "  The world seemed like such a peaceful place until the magic tree was discovered in London.\n",
            "  \n",
            "- The she was a four and to business, and to keep it on the hay.\n",
            "?     ----\n",
            "+ The was a four and to business, and to keep it on the hay.\n",
            "  \n",
            "- “Good!” said the concenting out on that rangimon himself before him as they worked\n",
            "?                     ^                   ^   ^^\n",
            "+ “Good!” said the consenting out on that Rangoon himself before him as they worked\n",
            "?                     ^                   ^   ^\n",
            "- that heaving worth off on the hill--which wis was more at\n",
            "?                                           ^\n",
            "+ that heaving worth off on the hill--which Wis was more at\n",
            "?                                           ^\n",
            "- it escepting her answering he sappivet of her head\n",
            "?     ^                              -\n",
            "+ it excepting her answering he sappiest of her head\n",
            "?     ^                               +\n",
            "- “Much terring me to see his good at any love. I see them, by the sister of the\n",
            "?       ^\n",
            "+ “Much herring me to see his good at any love. I see them, by the sister of the\n",
            "?       ^\n",
            "- business looked up atainst the barrier, and went up to the first tomesh fores before\n",
            "?                     ^                                                 -\n",
            "+ business looked up against the barrier, and went up to the first tomes fores before\n",
            "?                     ^\n",
            "- which heard and fresh, and in his mind thingle in the innore. The place\n",
            "?                                        ^               ^\n",
            "+ which heard and fresh, and in his mind shingle in the ignore. The place\n",
            "?                                        ^               ^\n",
            "- there, and there are flades on like the other blades up\n",
            "+ there, and there are blades on like the other blades up\n",
            "  and doing away.\n",
            "  \n",
            "- Wishin and hand he had ready to day before the night, and\n",
            "?   ^\n",
            "+ Within and hand he had ready to day before the night, and\n",
            "?   ^\n",
            "- remarkeding of the same man with a closely red. And struck off and\n",
            "?        ^\n",
            "+ remarketing of the same man with a closely red. And struck off and\n",
            "?        ^\n",
            "- slying, he was falling or near homes, stooding out\n",
            "?  ^                                        ^\n",
            "+ saying, he was falling or near homes, stooping out\n",
            "?  ^                                        ^\n",
            "- at their distrational tablis and straight in sixe, the mount ran down on\n",
            "?                           ^                    ^\n",
            "+ at their dist rational tables and straight in side, the mount ran down on\n",
            "?              +             ^                    ^\n",
            "- his bed-come of the court, where the evening would rejoited himself to seet it\n",
            "?                                                         ^                -\n",
            "+ his bed-come of the court, where the evening would rejoined himself to set it\n",
            "?                                                         ^\n",
            "- infifuction to that emeritions, that to but the prisoner was with in\n",
            "?    ^^^               ^  -\n",
            "+ infection to that exertions, that to but the prisoner was with in\n",
            "?    ^               ^\n",
            "  any, the looks an\n"
          ]
        }
      ]
    },
    {
      "cell_type": "markdown",
      "metadata": {
        "id": "b2Cudf3YoaKr"
      },
      "source": [
        "## VI. Next Steps\n",
        "\n",
        "This is a very simple model with one GRU layer and then an output layer. However, considering how simple it is and the fact that we are predicting outputs character by character, the text it produces is pretty amazing. Though it still has a long way to go before publication.\n",
        "\n",
        "There are many other RNN architectures you could try, such as adding additional hidden dense layers, replacing GRU with one or more LSTM layers, combining GRU and LSTM, etc...\n",
        "\n",
        "You could also experiment with better text cleanup to make sure odd punctuation doesn't appear, or finding longer texts to use. If you combine texts from two authors, what happens? Can you generate a Jane Austen stageplay by combining austen and shakespeare texts?\n",
        "\n",
        "Finally, there are a number of hyperparameters to tweak, such as temperature, epochs, batch size, sequence length, etc..."
      ]
    }
  ],
  "metadata": {
    "accelerator": "GPU",
    "colab": {
      "provenance": [],
      "machine_shape": "hm",
      "gpuType": "T4"
    },
    "kernelspec": {
      "display_name": "Python 3",
      "name": "python3"
    }
  },
  "nbformat": 4,
  "nbformat_minor": 0
}